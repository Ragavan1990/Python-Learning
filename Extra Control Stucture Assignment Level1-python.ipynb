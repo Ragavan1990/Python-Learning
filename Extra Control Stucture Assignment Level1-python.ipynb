{
 "cells": [
  {
   "cell_type": "code",
   "execution_count": 1,
   "id": "ee3c5132-edf0-41f4-aa0f-a9c436933aaf",
   "metadata": {},
   "outputs": [
    {
     "name": "stdout",
     "output_type": "stream",
     "text": [
      "HOPE AI\n"
     ]
    }
   ],
   "source": [
    "#print statement\n",
    "print(\"HOPE AI\")"
   ]
  },
  {
   "cell_type": "code",
   "execution_count": 3,
   "id": "5e82d2a1-f687-42cb-a632-91dc70f6a3b2",
   "metadata": {},
   "outputs": [
    {
     "name": "stdin",
     "output_type": "stream",
     "text": [
      "Enter your institute name? HOPE AI\n"
     ]
    }
   ],
   "source": [
    "#BUY Input\n",
    "Institute_Name=input(\"Enter your institute name?\")"
   ]
  },
  {
   "cell_type": "code",
   "execution_count": 5,
   "id": "9c4cf70d-8af7-45d4-84f0-69baff5e77fc",
   "metadata": {},
   "outputs": [
    {
     "name": "stdin",
     "output_type": "stream",
     "text": [
      "Enter your name: RAGAVAN\n",
      "Enter your age: 32\n",
      "Enter your school Name: LFHS\n",
      "Enter your degree B.B.A\n"
     ]
    }
   ],
   "source": [
    "Name=input(\"Enter your name:\")\n",
    "Age=int(input(\"Enter your age:\"))\n",
    "School_Name=input(\"Enter your school Name:\")\n",
    "Degree=input(\"Enter your degree\")\n",
    "\n"
   ]
  },
  {
   "cell_type": "code",
   "execution_count": 7,
   "id": "e1c1f786-61cf-4f4c-8b6e-792a0cb77282",
   "metadata": {},
   "outputs": [
    {
     "name": "stdout",
     "output_type": "stream",
     "text": [
      "Addition: 77\n"
     ]
    }
   ],
   "source": [
    "#Addition\n",
    "a=43\n",
    "b=34\n",
    "add=a+b\n",
    "print(\"Addition:\", add)\n"
   ]
  },
  {
   "cell_type": "code",
   "execution_count": 9,
   "id": "1eff02e3-f1f5-49e7-9c61-d5546c0b8297",
   "metadata": {},
   "outputs": [
    {
     "name": "stdout",
     "output_type": "stream",
     "text": [
      "Subtraction: 9\n"
     ]
    }
   ],
   "source": [
    "#Subtraction\n",
    "a=43\n",
    "b=34\n",
    "sub=a-b\n",
    "print(\"Subtraction:\",sub)\n"
   ]
  },
  {
   "cell_type": "code",
   "execution_count": 11,
   "id": "74dbfb6b-de90-4c40-86ec-ba7c293bd6db",
   "metadata": {},
   "outputs": [
    {
     "name": "stdout",
     "output_type": "stream",
     "text": [
      "MultiplicationL: 6111\n"
     ]
    }
   ],
   "source": [
    "#Multiplication\n",
    "a=63\n",
    "b=97\n",
    "Mul=a*b\n",
    "print(\"MultiplicationL:\", Mul)\n"
   ]
  },
  {
   "cell_type": "code",
   "execution_count": 7,
   "id": "cdba3587-4eca-41ad-988a-0f21a9a2b53c",
   "metadata": {},
   "outputs": [
    {
     "name": "stdout",
     "output_type": "stream",
     "text": [
      "Float Div: 2.4516129032258065\n"
     ]
    }
   ],
   "source": [
    "#Divion\n",
    "a=76\n",
    "b=31\n",
    "Float_Div=a/b\n",
    "print(\"Float Div:\",Float_Div)\n"
   ]
  },
  {
   "cell_type": "code",
   "execution_count": 11,
   "id": "8f3bed69-22e3-416e-900b-99bff6dd703f",
   "metadata": {},
   "outputs": [
    {
     "name": "stdout",
     "output_type": "stream",
     "text": [
      "Floor Div: 2\n"
     ]
    }
   ],
   "source": [
    "#Floor Division\n",
    "a=76\n",
    "b=31\n",
    "Floor_Div=a//b\n",
    "print(\"Floor Div:\", Floor_Div)"
   ]
  },
  {
   "cell_type": "code",
   "execution_count": 13,
   "id": "20912f51-39f6-479e-b9a5-dce73a3c924a",
   "metadata": {},
   "outputs": [
    {
     "name": "stdout",
     "output_type": "stream",
     "text": [
      "Modulo: 14\n"
     ]
    }
   ],
   "source": [
    "#Modulo\n",
    "a=76\n",
    "b=31\n",
    "Modulo=a%b\n",
    "print(\"Modulo:\",Modulo)\n"
   ]
  },
  {
   "cell_type": "code",
   "execution_count": null,
   "id": "4a1e6db1-1b2c-470b-898f-d1d74a120ca2",
   "metadata": {},
   "outputs": [],
   "source": []
  }
 ],
 "metadata": {
  "kernelspec": {
   "display_name": "Python 3 (ipykernel)",
   "language": "python",
   "name": "python3"
  },
  "language_info": {
   "codemirror_mode": {
    "name": "ipython",
    "version": 3
   },
   "file_extension": ".py",
   "mimetype": "text/x-python",
   "name": "python",
   "nbconvert_exporter": "python",
   "pygments_lexer": "ipython3",
   "version": "3.12.7"
  }
 },
 "nbformat": 4,
 "nbformat_minor": 5
}
