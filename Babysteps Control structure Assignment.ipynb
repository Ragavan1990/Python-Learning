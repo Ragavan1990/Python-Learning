{
 "cells": [
  {
   "cell_type": "code",
   "execution_count": null,
   "id": "05350f7b-4d7f-4910-ae2a-444d58edeb38",
   "metadata": {},
   "outputs": [],
   "source": [
    "print(\"Welcome to Assignment-1\")"
   ]
  },
  {
   "cell_type": "code",
   "execution_count": null,
   "id": "3cc71d52-da3a-4061-b486-a7e9c6b2a1f7",
   "metadata": {},
   "outputs": [],
   "source": [
    "Num1=10\n",
    "Num2=30\n",
    "Add=Num1+Num2\n",
    "print(Add)"
   ]
  },
  {
   "cell_type": "code",
   "execution_count": null,
   "id": "20990883-9003-492b-b1b1-b0b1589b8261",
   "metadata": {},
   "outputs": [],
   "source": [
    "Num1=int(input(\"Enter the number 1:\"))\n",
    "Num2=int(input(\"Enter the number 2:\"))\n",
    "add=Num1+Num2\n",
    "print(add)\n"
   ]
  },
  {
   "cell_type": "code",
   "execution_count": null,
   "id": "cd8fb524-326e-48e7-8295-fa92c95e1107",
   "metadata": {},
   "outputs": [],
   "source": [
    "Num1=int(input(\"Enter the Number1:\"))\n",
    "               Num2=int(input(\"Enter the Number2:\"))\n",
    "                        add=Num1+Num2\n",
    "print(add)"
   ]
  },
  {
   "cell_type": "code",
   "execution_count": null,
   "id": "a5d0b32c-d50d-4da0-87d0-24b0eae8b728",
   "metadata": {},
   "outputs": [],
   "source": [
    "Num1=int(input(\"Enter the Number1:\"))"
   ]
  },
  {
   "cell_type": "code",
   "execution_count": null,
   "id": "ad5c3da4-7b27-490c-9b50-6b40b63f84d0",
   "metadata": {},
   "outputs": [],
   "source": [
    "Num2=int(input(\"Enter the Number2:\"))"
   ]
  },
  {
   "cell_type": "code",
   "execution_count": null,
   "id": "2b1e0557-8369-4faa-ab86-f990e79824a9",
   "metadata": {},
   "outputs": [],
   "source": [
    "Add= Num1+Num2\n",
    "print(Add)"
   ]
  },
  {
   "cell_type": "code",
   "execution_count": null,
   "id": "9d4b4075-99c1-4526-93c0-5bae7b4ba62a",
   "metadata": {},
   "outputs": [],
   "source": [
    "Num1=10\n",
    "Num2=20\n",
    "Add=Num1+Num2\n",
    "print(\"Addition:\", Add)"
   ]
  },
  {
   "cell_type": "code",
   "execution_count": 19,
   "id": "d7c102ab-4138-4a3c-991a-537db569ef27",
   "metadata": {},
   "outputs": [
    {
     "name": "stdin",
     "output_type": "stream",
     "text": [
      "Enter the BMI Index: 34\n"
     ]
    },
    {
     "name": "stdout",
     "output_type": "stream",
     "text": [
      "Very Overweight\n"
     ]
    }
   ],
   "source": [
    "#Body Mass Indx\n",
    "Num=float(input(\"Enter the BMI Index:\"))\n",
    "if(Num<18):\n",
    "    print(\"Under Weight\")\n",
    "elif(Num<18.5):\n",
    "    print(\"Thin for height\")\n",
    "elif(Num<24.9):\n",
    "    print(\"Health Weight\")\n",
    "elif(Num<29.9):\n",
    "    print(\"Overweight\")\n",
    "else:\n",
    "    print(\"Very Overweight\")\n",
    "\n",
    "        "
   ]
  },
  {
   "cell_type": "code",
   "execution_count": null,
   "id": "e74a2c13-06bd-4791-950d-3fd848846190",
   "metadata": {},
   "outputs": [],
   "source": []
  }
 ],
 "metadata": {
  "kernelspec": {
   "display_name": "Python 3 (ipykernel)",
   "language": "python",
   "name": "python3"
  },
  "language_info": {
   "codemirror_mode": {
    "name": "ipython",
    "version": 3
   },
   "file_extension": ".py",
   "mimetype": "text/x-python",
   "name": "python",
   "nbconvert_exporter": "python",
   "pygments_lexer": "ipython3",
   "version": "3.12.7"
  }
 },
 "nbformat": 4,
 "nbformat_minor": 5
}
