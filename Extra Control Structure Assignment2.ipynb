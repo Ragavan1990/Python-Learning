{
 "cells": [
  {
   "cell_type": "code",
   "execution_count": 11,
   "id": "d0ed4956-c1b9-4379-b292-f2e58d17066d",
   "metadata": {},
   "outputs": [
    {
     "name": "stdout",
     "output_type": "stream",
     "text": [
      "Power: 8\n"
     ]
    }
   ],
   "source": [
    "a=2\n",
    "b=3\n",
    "Power=a**b\n",
    "print(\"Power:\",Power)\n"
   ]
  },
  {
   "cell_type": "code",
   "execution_count": 25,
   "id": "56d67a89-87bf-4259-a004-0f9bb69f35dd",
   "metadata": {},
   "outputs": [
    {
     "name": "stdin",
     "output_type": "stream",
     "text": [
      "Enter the value: 10\n"
     ]
    },
    {
     "name": "stdout",
     "output_type": "stream",
     "text": [
      "Correct Value\n"
     ]
    }
   ],
   "source": [
    "i=int(input(\"Enter the value:\") )\n",
    "if(i==10):\n",
    "    print(\"Correct Value\")\n",
    "else:\n",
    "    print(\"Incorrect Value\")\n",
    "    \n",
    "    \n",
    "    \n",
    "    \n",
    "      "
   ]
  },
  {
   "cell_type": "code",
   "execution_count": 1,
   "id": "8ecb91cd-f9b4-488a-9bb3-04960cf8f5da",
   "metadata": {},
   "outputs": [
    {
     "name": "stdin",
     "output_type": "stream",
     "text": [
      "Enter the password: HOPE@123\n"
     ]
    },
    {
     "name": "stdout",
     "output_type": "stream",
     "text": [
      "Password is correct\n"
     ]
    }
   ],
   "source": [
    "#Check the password using if and else\n",
    "password=input(\"Enter the password:\")\n",
    "if(password=='HOPE@123'):\n",
    "             print(\"Password is correct\")\n",
    "else:\n",
    "             print(\"Password is incorrect\")\n"
   ]
  },
  {
   "cell_type": "code",
   "execution_count": null,
   "id": "0424d4e7-e1c6-41f7-9599-99fdfba8e8ad",
   "metadata": {},
   "outputs": [],
   "source": []
  },
  {
   "cell_type": "code",
   "execution_count": 9,
   "id": "918fb5a6-102a-40f2-941d-708546c884ca",
   "metadata": {},
   "outputs": [
    {
     "name": "stdin",
     "output_type": "stream",
     "text": [
      "Enter the age 20\n"
     ]
    },
    {
     "name": "stdout",
     "output_type": "stream",
     "text": [
      "Adult\n"
     ]
    }
   ],
   "source": [
    "#Category the people by their age like children, adult, citizen,senior citizen\n",
    "age=int(input(\"Enter the age\"))\n",
    "if(age<18):\n",
    "    print(\"Children\")\n",
    "elif(age<35):\n",
    "    print(\"Adult\")\n",
    "elif(age<59):\n",
    "    print(\"Citizen\")\n",
    "else:\n",
    "    print(\"Senior Citizen\")\n",
    "\n",
    "\n",
    "   \n",
    "        "
   ]
  },
  {
   "cell_type": "code",
   "execution_count": 15,
   "id": "ec110b92-c282-43e7-a980-58e67fee640a",
   "metadata": {},
   "outputs": [
    {
     "name": "stdin",
     "output_type": "stream",
     "text": [
      "Enter the number -1\n"
     ]
    },
    {
     "name": "stdout",
     "output_type": "stream",
     "text": [
      "No is Negative\n"
     ]
    }
   ],
   "source": [
    "#Find whether given number is positive or negative\n",
    "Num=int(input(\"Enter the number\"))\n",
    "if(Num<0):\n",
    "    print(\"No is Negative\")\n",
    "else:\n",
    "    print(\"No is Positive\")\n",
    "    "
   ]
  },
  {
   "cell_type": "code",
   "execution_count": 23,
   "id": "82d0ecf7-610e-4daf-9434-3967bcb861c0",
   "metadata": {},
   "outputs": [
    {
     "name": "stdin",
     "output_type": "stream",
     "text": [
      "Enter the number 22\n"
     ]
    },
    {
     "name": "stdout",
     "output_type": "stream",
     "text": [
      "No is not divisble by 5\n"
     ]
    }
   ],
   "source": [
    "#Check whether the given number is divisible by 5\n",
    "Num=int(input(\"Enter the number\"))\n",
    "if(Num%5==0):\n",
    "    print(\"No is divisble by 5\")\n",
    "else:\n",
    "    print(\"No is not divisble by 5\")\n",
    "    "
   ]
  },
  {
   "cell_type": "code",
   "execution_count": null,
   "id": "ec727099-ce11-46fa-a7f4-405550c4c11a",
   "metadata": {},
   "outputs": [],
   "source": []
  }
 ],
 "metadata": {
  "kernelspec": {
   "display_name": "Python 3 (ipykernel)",
   "language": "python",
   "name": "python3"
  },
  "language_info": {
   "codemirror_mode": {
    "name": "ipython",
    "version": 3
   },
   "file_extension": ".py",
   "mimetype": "text/x-python",
   "name": "python",
   "nbconvert_exporter": "python",
   "pygments_lexer": "ipython3",
   "version": "3.12.7"
  }
 },
 "nbformat": 4,
 "nbformat_minor": 5
}
