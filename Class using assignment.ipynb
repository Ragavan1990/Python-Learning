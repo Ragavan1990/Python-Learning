{
 "cells": [
  {
   "cell_type": "code",
   "execution_count": 105,
   "id": "7dcbe0b4-421d-4129-b481-bdbcde5a0921",
   "metadata": {},
   "outputs": [
    {
     "name": "stdout",
     "output_type": "stream",
     "text": [
      "SubFields In AI are: \n",
      "Machine Learning\n",
      "Neural Networks\n",
      "Vision\n",
      "Robotics\n",
      "Speech Processing\n",
      "Natural Language Processing\n"
     ]
    },
    {
     "data": {
      "text/plain": [
       "'Natural Language Processing'"
      ]
     },
     "execution_count": 105,
     "metadata": {},
     "output_type": "execute_result"
    }
   ],
   "source": [
    "#Create a class and function and list out the items in the list\n",
    "class SubfieldsINAI():\n",
    " def Subfields():\n",
    "  Lists=[\"SubFields In AI are: \",\"Machine Learning\",\"Neural Networks\",\"Vision\",\"Robotics\",\"Speech Processing\",\"Natural Language Processing\"]\n",
    "  for AI in Lists:\n",
    "    print(AI)\n",
    "  return AI\n",
    "SubfieldsINAI.Subfields()\n"
   ]
  },
  {
   "cell_type": "code",
   "execution_count": 95,
   "id": "f60a64d4-527f-4a48-ac0a-d19de56e495b",
   "metadata": {},
   "outputs": [
    {
     "name": "stdout",
     "output_type": "stream",
     "text": [
      "SubFields In AI are: \n",
      "Machine Learning\n",
      "Neural Networks\n",
      "Vision\n",
      "Robotics\n",
      "Speech Processing\n",
      "Natural Language Processing\n"
     ]
    }
   ],
   "source": [
    "SubfieldsINAI.Subfields()"
   ]
  },
  {
   "cell_type": "code",
   "execution_count": 40,
   "id": "00683610-3800-4851-b705-ce88bb34de9f",
   "metadata": {},
   "outputs": [],
   "source": [
    "#Odd or Even Number Using Class\n",
    "class oddEven():\n",
    " def OddEven():\n",
    "  Num=int(input(\"Enter the value:\"))\n",
    "  if(Num%2==0):\n",
    "    print(\"Even Number\")\n",
    "  else:\n",
    "    print(\"Odd Number\")"
   ]
  },
  {
   "cell_type": "code",
   "execution_count": 84,
   "id": "026c3f9d-2970-4f26-9124-830a71df0746",
   "metadata": {},
   "outputs": [
    {
     "name": "stdin",
     "output_type": "stream",
     "text": [
      "Enter the value: 78\n"
     ]
    }
   ],
   "source": [
    " OddEven()"
   ]
  },
  {
   "cell_type": "code",
   "execution_count": 82,
   "id": "4a754fb7-cb50-4eb0-8dc0-1fe9136b02c4",
   "metadata": {},
   "outputs": [
    {
     "name": "stdin",
     "output_type": "stream",
     "text": [
      "Enter the value: 7\n"
     ]
    },
    {
     "name": "stdout",
     "output_type": "stream",
     "text": [
      "Odd Number\n"
     ]
    }
   ],
   "source": [
    "oddEven.OddEven()"
   ]
  },
  {
   "cell_type": "code",
   "execution_count": 98,
   "id": "7b0848f1-128b-4639-9d8b-dd8e41f30870",
   "metadata": {},
   "outputs": [],
   "source": [
    "#Odd or Even Number Using Class\n",
    "class oddEven():\n",
    " def OddEven():\n",
    "     Num=int(input(\"Enter the value:\"))\n",
    "     if(Num%2==0):\n",
    "        print(Num,\"is Even Number\")\n",
    "     else:\n",
    "        print(Num,\"is Odd Number\")"
   ]
  },
  {
   "cell_type": "code",
   "execution_count": 102,
   "id": "948c3fc7-4ece-4a43-8f28-24e41da06eda",
   "metadata": {},
   "outputs": [
    {
     "name": "stdin",
     "output_type": "stream",
     "text": [
      "Enter the value: 78\n"
     ]
    }
   ],
   "source": [
    "OddEven()"
   ]
  },
  {
   "cell_type": "code",
   "execution_count": 100,
   "id": "f76667f1-fbd2-44f6-ade0-36a8dbd7a939",
   "metadata": {},
   "outputs": [
    {
     "name": "stdin",
     "output_type": "stream",
     "text": [
      "Enter the value: 78\n"
     ]
    },
    {
     "name": "stdout",
     "output_type": "stream",
     "text": [
      "78 is Even Number\n"
     ]
    }
   ],
   "source": [
    "oddEven.OddEven()"
   ]
  },
  {
   "cell_type": "code",
   "execution_count": null,
   "id": "d2d8c9d0-9ab1-4d0f-a9ea-19f12a638dda",
   "metadata": {},
   "outputs": [],
   "source": []
  }
 ],
 "metadata": {
  "kernelspec": {
   "display_name": "Python 3 (ipykernel)",
   "language": "python",
   "name": "python3"
  },
  "language_info": {
   "codemirror_mode": {
    "name": "ipython",
    "version": 3
   },
   "file_extension": ".py",
   "mimetype": "text/x-python",
   "name": "python",
   "nbconvert_exporter": "python",
   "pygments_lexer": "ipython3",
   "version": "3.12.7"
  }
 },
 "nbformat": 4,
 "nbformat_minor": 5
}
